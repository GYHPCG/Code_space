{
 "cells": [
  {
   "cell_type": "code",
   "execution_count": 15,
   "metadata": {},
   "outputs": [
    {
     "name": "stdout",
     "output_type": "stream",
     "text": [
      "矩阵 x:\n",
      "(0.667969672419994, 0.0908228917282143, 0.0890064338936500, 0.0845561121989675, 0.0676448897591740)\n",
      "存活率 q:  0.135968585817933\n"
     ]
    }
   ],
   "source": [
    "import sympy as sp\n",
    "\n",
    "# 定义符号\n",
    "x1, x2, x3, x4, x5, q = sp.symbols('x1 x2 x3 x4 x5 q')\n",
    "N = sp.symbols('N')\n",
    "\n",
    "P = sp.Matrix([[0, 1.8, 2.4, 2.0, 1.8],\n",
    "              [q, 0, 0, 0, 0],\n",
    "              [0, 0.98, 0, 0, 0],\n",
    "              [0, 0, 0.95, 0, 0],\n",
    "              [0, 0, 0, 0.80, 0]])\n",
    "\n",
    "#定义矩阵x\n",
    "x = sp.Matrix([x1, x2, x3, x4, x5])\n",
    "\n",
    "#定义计算方程\n",
    "equation1 = sp.Eq(x, P * x)\n",
    "#概率和为1\n",
    "equation2 = sp.Eq(1, x1 + x2 + x3 + x4 + x5)\n",
    "#求解方程结果\n",
    "solution = sp.solve((equation1, equation2), (x1, x2, x3, x4, x5, q))\n",
    "\n",
    "x = solution[0][0:5]\n",
    "q = solution[0][-1]\n",
    "\n",
    "print(\"矩阵 x:\")\n",
    "print(x)\n",
    "print(\"存活率 q: \", q)\n"
   ]
  }
 ],
 "metadata": {
  "kernelspec": {
   "display_name": "Python 3 (ipykernel)",
   "language": "python",
   "name": "python3"
  },
  "language_info": {
   "codemirror_mode": {
    "name": "ipython",
    "version": 3
   },
   "file_extension": ".py",
   "mimetype": "text/x-python",
   "name": "python",
   "nbconvert_exporter": "python",
   "pygments_lexer": "ipython3",
   "version": "3.9.13"
  }
 },
 "nbformat": 4,
 "nbformat_minor": 2
}
