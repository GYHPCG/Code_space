{
 "cells": [
  {
   "cell_type": "code",
   "execution_count": 3,
   "id": "1d7f92e4",
   "metadata": {},
   "outputs": [
    {
     "name": "stdout",
     "output_type": "stream",
     "text": [
      "CPU times: total: 0 ns\n",
      "Wall time: 1 ms\n",
      "CPU times: total: 0 ns\n",
      "Wall time: 0 ns\n"
     ]
    }
   ],
   "source": [
    "import random\n",
    "import numpy as np\n",
    "import time\n",
    "\n",
    "# python原生list\n",
    "a = list()\n",
    "for i in range(100000):\n",
    "    a.append(random.random())\n",
    "\n",
    "%time sum1 = sum(a)\n",
    "\n",
    "a = list()\n",
    "\n",
    "for i in range(100000):\n",
    "    a.append(random.random())\n",
    "b = np.array(a)\n",
    "%time sum2 = np.sum(b)\n"
   ]
  },
  {
   "cell_type": "code",
   "execution_count": 3,
   "id": "db7f13b5",
   "metadata": {},
   "outputs": [
    {
     "name": "stdout",
     "output_type": "stream",
     "text": [
      "2\n",
      "(2, 5)\n",
      "10\n",
      "int32\n",
      "4\n"
     ]
    }
   ],
   "source": [
    "import numpy as np\n",
    "\n",
    "a = np.array([[0, 1, 2, 3 ,4],\n",
    "             [5, 6, 7, 8, 9]])\n",
    "print(a.ndim)\n",
    "\n",
    "print(a.shape)\n",
    "\n",
    "print(a.size)\n",
    "\n",
    "print(a.dtype)\n",
    "\n",
    "print(a.itemsize)"
   ]
  },
  {
   "cell_type": "code",
   "execution_count": 9,
   "id": "477ddcb1",
   "metadata": {},
   "outputs": [
    {
     "name": "stdout",
     "output_type": "stream",
     "text": [
      "[3 4 5 6 7 8]\n",
      "[[1. 1. 1. 1. 1. 1.]\n",
      " [1. 1. 1. 1. 1. 1.]]\n"
     ]
    }
   ],
   "source": [
    "arr = np.arange(3, 9)\n",
    "print(arr)\n",
    "\n",
    "arr = np.ones((2, 6))\n",
    "print(arr)\n"
   ]
  },
  {
   "cell_type": "code",
   "execution_count": 33,
   "id": "e0554b78",
   "metadata": {
    "scrolled": true
   },
   "outputs": [
    {
     "name": "stdout",
     "output_type": "stream",
     "text": [
      "\n",
      "[[[12 13 14 15]\n",
      "  [16 17 18 19]\n",
      "  [20 21 22 23]]]\n"
     ]
    }
   ],
   "source": [
    "# 最小维度\n",
    "import numpy as np\n",
    "a = np.array([1, 2, 3.14, 4, 5], ndmin=2, dtype=complex)\n",
    "# print(a)\n",
    "\n",
    "\n",
    "# d = np.ones((2, 3, 4), dtype=int)\n",
    "\n",
    "# print(d)\n",
    "\n",
    "d = np.arange(24).reshape(2, 3, 4)\n",
    "\n",
    "# print(d)\n",
    "print()\n",
    "print(d[1: 2: 1])"
   ]
  },
  {
   "cell_type": "code",
   "execution_count": 35,
   "id": "4d225dc3",
   "metadata": {},
   "outputs": [
    {
     "name": "stdout",
     "output_type": "stream",
     "text": [
      "我们的数组是：\n",
      "[[ 0  1  2]\n",
      " [ 3  4  5]\n",
      " [ 6  7  8]\n",
      " [ 9 10 11]]\n",
      "\n",
      "\n",
      "大于 5 的元素是：\n",
      "[ 5  6  7  8  9 10 11]\n"
     ]
    }
   ],
   "source": [
    "import numpy as np \n",
    " \n",
    "x = np.array([[  0,  1,  2],[  3,  4,  5],[  6,  7,  8],[  9,  10,  11]])  \n",
    "print ('我们的数组是：')\n",
    "print (x)\n",
    "print ('\\n')\n",
    "# 现在我们会打印出大于 5 的元素  \n",
    "print  ('大于 5 的元素是：')\n",
    "print (x[x >=  5])"
   ]
  },
  {
   "cell_type": "markdown",
   "id": "03159efd",
   "metadata": {},
   "source": [
    "# 数组创建"
   ]
  },
  {
   "cell_type": "code",
   "execution_count": 10,
   "id": "b68d3d2a",
   "metadata": {},
   "outputs": [
    {
     "name": "stdout",
     "output_type": "stream",
     "text": [
      "[0. 0. 0. 0. 0.]\n",
      "[[0. 0. 0. 0. 0. 0.]\n",
      " [0. 0. 0. 0. 0. 0.]\n",
      " [0. 0. 0. 0. 0. 0.]\n",
      " [0. 0. 0. 0. 0. 0.]\n",
      " [0. 0. 0. 0. 0. 0.]]\n",
      "[[1 1 1]\n",
      " [1 1 1]]\n",
      "[[1 1 1]\n",
      " [1 1 1]\n",
      " [1 1 1]]\n"
     ]
    }
   ],
   "source": [
    "import numpy as np\n",
    "zero = np.zeros(5)\n",
    "print(zero)\n",
    "\n",
    "two = np.zeros([5, 6])\n",
    "print(two)\n",
    "\n",
    "\n",
    "one = np.ones([2, 3], dtype = 'int32')\n",
    "print(one)\n",
    "\n",
    "# 创建一个 3x3 的二维数组\n",
    "arr = np.array([[1, 2, 3], [4, 5, 6], [7, 8, 9]])\n",
    " \n",
    "# 创建一个与 arr 形状相同的，所有元素都为 1 的数组\n",
    "ones_arr = np.ones_like(arr)\n",
    "print(ones_arr)\n",
    "\n",
    "\n",
    "# numpy.empty 方法用来创建一个指定形状（shape）、数据类型（dtype）且未初始化的数组：\n",
    "x = np.empty([3,2], dtype = int) \n",
    "print (x)\n",
    "\n",
    "\n"
   ]
  },
  {
   "cell_type": "markdown",
   "id": "ff89d113",
   "metadata": {},
   "source": [
    "# 浅拷贝和深拷贝"
   ]
  },
  {
   "cell_type": "code",
   "execution_count": 17,
   "id": "758b4a69",
   "metadata": {},
   "outputs": [
    {
     "name": "stdout",
     "output_type": "stream",
     "text": [
      "[[0. 0. 0. 0. 0. 0.]\n",
      " [0. 0. 0. 0. 0. 0.]\n",
      " [0. 0. 0. 0. 0. 0.]\n",
      " [0. 0. 0. 0. 0. 0.]\n",
      " [0. 0. 0. 0. 0. 0.]]\n",
      "[[0. 0. 0. 0. 0. 0.]\n",
      " [0. 0. 0. 0. 0. 0.]\n",
      " [0. 0. 0. 0. 0. 0.]\n",
      " [0. 0. 0. 0. 0. 0.]\n",
      " [0. 0. 0. 0. 0. 0.]]\n",
      "[[1. 0. 0. 0. 0. 0.]\n",
      " [0. 0. 0. 0. 0. 0.]\n",
      " [0. 0. 0. 0. 0. 0.]\n",
      " [0. 0. 0. 0. 0. 0.]\n",
      " [0. 0. 0. 0. 0. 0.]]\n"
     ]
    }
   ],
   "source": [
    "two = np.zeros([5,6])\n",
    "print(two)\n",
    "\n",
    "# 深拷贝\n",
    "a = np.array(two)\n",
    "\n",
    "a[0][0] = 3\n",
    "\n",
    "print(two)\n",
    "\n",
    "\n",
    "\n",
    "# 浅拷贝\n",
    "b = np.asarray(two)\n",
    "\n",
    "b[0][0] = 1\n",
    "\n",
    "print(two)\n",
    "\n"
   ]
  },
  {
   "cell_type": "markdown",
   "id": "0442bb37",
   "metadata": {},
   "source": [
    "# 广播机制"
   ]
  },
  {
   "cell_type": "code",
   "execution_count": 1,
   "id": "97b38854",
   "metadata": {},
   "outputs": [
    {
     "name": "stdout",
     "output_type": "stream",
     "text": [
      "[[ 1  2  3]\n",
      " [11 12 13]\n",
      " [21 22 23]\n",
      " [31 32 33]]\n"
     ]
    }
   ],
   "source": [
    "# 广播的规则:\n",
    "# ①让所有输入数组都向其中形状最长的数组看齐，形状中不足的部分都通过在前面加 1 补齐。\n",
    "# ②输出数组的形状是输入数组形状的各个维度上的最大值。\n",
    "# ③如果输入数组的某个维度和输出数组的对应维度的长度相同或者其长度为 1 时，这个数组能够用来计算，否则出错。\n",
    "# ④当输入数组的某个维度的长度为 1 时，沿着此维度运算时都用此维度上的第一组值。\n",
    "\n",
    "import numpy as np\n",
    "\n",
    "a = np.array([[ 0, 0, 0],\n",
    "           [10,10,10],\n",
    "           [20,20,20],\n",
    "           [30,30,30]])\n",
    "\n",
    "# ①\n",
    "b = np.array([1,2,3])\n",
    "c = a + b\n",
    "print(c)\n",
    "\n",
    "# ②\n",
    "\n",
    "\n"
   ]
  },
  {
   "cell_type": "markdown",
   "id": "689328da",
   "metadata": {},
   "source": [
    "# 实验4：切片和索引"
   ]
  },
  {
   "cell_type": "code",
   "execution_count": 35,
   "id": "56eb1a10",
   "metadata": {},
   "outputs": [
    {
     "name": "stdout",
     "output_type": "stream",
     "text": [
      "[[ 0  1  2  3]\n",
      " [ 4  5  6  7]\n",
      " [ 8  9 10 11]\n",
      " [12 13 14 15]\n",
      " [16 17 18 19]\n",
      " [20 21 22 23]\n",
      " [24 25 26 27]\n",
      " [28 29 30 31]]\n",
      "\n",
      "\n",
      "[[ 4  7  5  6]\n",
      " [20 23 21 22]\n",
      " [28 31 29 30]\n",
      " [ 8 11  9 10]]\n"
     ]
    }
   ],
   "source": [
    "import numpy as np\n",
    " \n",
    "# # ndarray 数组可以基于 0 - n 的下标进行索引，切片对象可以通过内置的 slice 函数，并\n",
    "# # 设置 start, stop 及 step 参数进行，从原数组中切割出一个新数组。    \n",
    "# a = np.arange(10)\n",
    "# s = slice(3,8,2)   # 从索引 3 开始到索引 8 停止，间隔为2\n",
    "# print(s) #返回索引存储在tuple中 \n",
    "# print (a[s])# [3, 5, 7]\n",
    "\n",
    "\n",
    "\n",
    "#冒号分隔切片参数 start:stop:step 来进行切片操作：\n",
    "# a = np.arange(15)  \n",
    "# b = a[2:13:2]   # 从索引 2 开始到索引 13 停止，间隔为 2\n",
    "# print(b) # [2, 4 ,6，8， 10，12]\n",
    "\n",
    "# #索引访问\n",
    "# a = np.arange(10)  # [0 1 2 3 4 5 6 7 8 9]\n",
    "# b = a[5] \n",
    "# print(b) # 5\n",
    "\n",
    "\n",
    "#多维数组切片\n",
    "# print('\\n')\n",
    "# a = np.array([[1,2,3,4],[3,4,5, 6],[4,5,6, 7]])\n",
    "# print(a)\n",
    "\n",
    "# # 从某个索引处开始切割\n",
    "# print('\\n')\n",
    "# print('从数组索引 a[1:] 处开始切割') # 列和行数 = 索引数 + 1\n",
    "# print(a[1::, 1:3:]) # 因为此处的为二维对象，因此前面的 '1::'表示行的切片，从第二行开始， '1:3:'表示为\n",
    "#                     #列从第二列开始，切割到第四列，不包括第四列，表示包括第二列和第三列\n",
    "\n",
    "\n",
    "#切片还可以包括省略号 …，来使选择元组的长度与数组的\n",
    "#维度相同。 如果在行位置使用省略号，它将返回包含行中元素的 ndarray。\n",
    "# a = np.array([[1,2,3],[3,4,5],[4,5,6]]) \n",
    "# print(a)\n",
    "# print(\"\")\n",
    "# print (a[...,1])   # 第2列元素\n",
    "# print (a[1,...])   # 第2行元素\n",
    "# print (a[...,1:])  # 第2列及剩下的所有元素\n",
    "\n",
    "\n",
    "\n",
    "\n",
    "#高级索引：\n",
    "'''\n",
    "NumPy 比一般的 Python 序列提供更多的索引方式。\n",
    "除了之前看到的用整数和切片的索引外，数组可以由整数数组索引、布尔索引及花式索引。\n",
    "NumPy 中的高级索引指的是使用整数数组、布尔数组或者其他序列来访问数组的元素。相比\n",
    "于基本索引，高级索引可以访问到数组中的任意元素，并且可以用来对数组进行复杂的操作和修改。\n",
    "'''\n",
    "#①整数数组索引\n",
    "\n",
    "# a = np.arange(20).reshape(4, 5)\n",
    "# print(a)\n",
    "# print(\"\")\n",
    "\n",
    "# y = a[[0, 3, 2], [2, 3, 1]] #此次的数组可理解为，前面的[0, 3, 2]为x轴坐标，[2, 3, 1]为y轴坐标\n",
    "#                             #然后一一对应从x和y中取出坐标，等价于a[0, 2], a[3, 3], a[2, 1]\n",
    "# print(y) #结果为[2 18 11]\n",
    "# print(a[0, 2], a[3, 3], a[2, 1])\n",
    "\n",
    "#②布尔索引\n",
    "# 可以通过一个布尔数组来索引目标数组。\n",
    "#布尔索引通过布尔运算（如：比较运算符）来获取符合指定条件的元素的数组。\n",
    "#如下获得所有大于8的元素\n",
    "# a = np.arange(20).reshape(4, 5)\n",
    "# print(\"\")\n",
    "# b = a[a > 8]\n",
    "# print(\"所有大于8的元素为：\")\n",
    "# print(b)\n",
    "\n",
    "# ax = np.array([1, 3 + 4j, 8 + -2j, 7])\n",
    "# print(\"获取所有复数的元素：\")\n",
    "# res = ax[np.iscomplex(ax)]\n",
    "# print(res)\n",
    "\n",
    "#③花式索引：\n",
    "# 花式索引指的是利用整数数组进行索引。\n",
    "# 花式索引根据索引数组的值作为目标数组的某个轴的下标来取值。\n",
    "# 对于使用一维整型数组作为索引，如果目标是一维数组，那么索引的结果就是\n",
    "# 对应位置的元素， 如果目标是二维数组，那么就是对应下标的行。\n",
    "# 花式索引跟切片不一样，它总是将数据复制到新数组中。\n",
    "\n",
    "# 3.1一维数组：一维数组只有一个轴 axis = 0，所以一维数组就在 axis = 0 这个轴上取值：\n",
    "# x = np.arange(9)\n",
    "# print(x)\n",
    "# # 一维数组读取指定下标对应的元素\n",
    "# print(\"-------读取下标对应的元素-------\")\n",
    "# x2 = x[[0, 6]] # 使用花式索引\n",
    "# print(x2)\n",
    "\n",
    "# print(x2[0])\n",
    "# print(x2[1])\n",
    "\n",
    "#3.2二维数组：\n",
    "# 3.2.1、传入顺序索引数组\n",
    "# x=np.arange(56).reshape((8,7))\n",
    "# print(x)\n",
    "# # 二维数组读取指定下标对应的行\n",
    "# print(\"-------读取下标对应的行-------\")\n",
    "# print (x[[4,2,1,7]]) #输出索引为4， 2， 1， 7所对应的行\n",
    "\n",
    "# # 3.2.2传入倒序索引数组\n",
    "# print(\"倒叙索引：\")\n",
    "# print (x[[-4,-2,-1,-7]])\n",
    "\n",
    "# 3.3传入多个索引数组（要使用 np.ix_）\n",
    "# np.ix_ 函数就是输入两个数组，产生笛卡尔积的映射关系。\n",
    "# 笛卡尔乘积是指在数学中，两个集合 X 和 Y 的笛卡尔积（Cartesian product），\n",
    "# 又称直积，表示为 X×Y，第一个对象是X的成员而第二个对象是 Y 的所有可能有序对的其中一个成员。\n",
    "x=np.arange(32).reshape((8,4))\n",
    "print(x)\n",
    "print(\"\\n\")\n",
    "print (x[np.ix_([1,5,7,2],[0,3,1,2])]) \n",
    "#求笛卡儿积：即按照笛卡尔积求得索引，然后获取如： x[1][0]，x[1, 3], x[1, 1], [1, 2]\n",
    "#简单理解"
   ]
  },
  {
   "cell_type": "code",
   "execution_count": null,
   "id": "40a63a46",
   "metadata": {},
   "outputs": [],
   "source": []
  },
  {
   "cell_type": "markdown",
   "id": "0e4070c6",
   "metadata": {},
   "source": [
    "# 六.数据访问与修改"
   ]
  },
  {
   "cell_type": "code",
   "execution_count": 8,
   "id": "45f427e7",
   "metadata": {},
   "outputs": [
    {
     "name": "stdout",
     "output_type": "stream",
     "text": [
      "第一个数组：\n",
      "[[1 2 3]\n",
      " [4 5 6]]\n",
      "\n",
      "\n",
      "向数组添加元素：\n",
      "[1 2 3 4 5 6 7 8 9]\n",
      "\n",
      "\n",
      "沿轴 0 添加元素：\n",
      "[[1 2 3]\n",
      " [4 5 6]\n",
      " [7 8 9]]\n",
      "\n",
      "\n",
      "沿轴 1 添加元素：\n",
      "[[1 2 3 5 5 5]\n",
      " [4 5 6 7 8 9]]\n",
      "第一个数组：\n",
      "[[1 2]\n",
      " [3 4]]\n",
      "\n",
      "\n",
      "第二个数组：\n",
      "[[5 6]\n",
      " [7 8]]\n",
      "\n",
      "\n",
      "竖直堆叠：\n",
      "[[1 2]\n",
      " [3 4]\n",
      " [5 6]\n",
      " [7 8]]\n",
      "第一个数组：\n",
      "[[1 2]\n",
      " [3 4]]\n",
      "\n",
      "\n",
      "第二个数组：\n",
      "[[5 6]\n",
      " [7 8]]\n",
      "\n",
      "\n",
      "水平堆叠：\n",
      "[[1 2 5 6]\n",
      " [3 4 7 8]]\n",
      "\n",
      "\n"
     ]
    }
   ],
   "source": [
    "import numpy as np\n",
    " \n",
    "    \n",
    " #append()   \n",
    "a = np.array([[1,2,3],[4,5,6]])\n",
    " \n",
    "print ('第一个数组：')\n",
    "print (a)\n",
    "print ('\\n')\n",
    " \n",
    "print ('向数组添加元素：')\n",
    "print (np.append(a, [7,8,9]))\n",
    "print ('\\n')\n",
    " \n",
    "print ('沿轴 0 添加元素：')\n",
    "print (np.append(a, [[7,8,9]],axis = 0))\n",
    "print ('\\n')\n",
    " \n",
    "print ('沿轴 1 添加元素：')\n",
    "print (np.append(a, [[5,5,5],[7,8,9]],axis = 1))\n",
    "\n",
    "#vstack(),上下拼接\n",
    "a = np.array([[1,2],[3,4]])\n",
    " \n",
    "print ('第一个数组：')\n",
    "print (a)\n",
    "print ('\\n')\n",
    "b = np.array([[5,6],[7,8]])\n",
    " \n",
    "print ('第二个数组：')\n",
    "print (b)\n",
    "print ('\\n')\n",
    " \n",
    "print ('竖直堆叠：')\n",
    "c = np.vstack((a,b))\n",
    "print (c)\n",
    "\n",
    "\n",
    "#hstack水平拼接\n",
    "\n",
    "a = np.array([[1,2],[3,4]])\n",
    " \n",
    "print ('第一个数组：')\n",
    "print (a)\n",
    "print ('\\n')\n",
    "b = np.array([[5,6],[7,8]])\n",
    " \n",
    "print ('第二个数组：')\n",
    "print (b)\n",
    "print ('\\n')\n",
    " \n",
    "print ('水平堆叠：')\n",
    "c = np.hstack((a,b))\n",
    "print (c)\n",
    "print ('\\n')"
   ]
  },
  {
   "cell_type": "markdown",
   "id": "3cdacd3d",
   "metadata": {},
   "source": [
    "# 数组迭代"
   ]
  },
  {
   "cell_type": "code",
   "execution_count": null,
   "id": "8108e478",
   "metadata": {},
   "outputs": [],
   "source": [
    "import numpy as np\n",
    "\n",
    "a = np.arange(6).reshape(2,3)\n",
    "print(a[0, 2])\n",
    "\n",
    "print(a.T)\n",
    "\n"
   ]
  },
  {
   "cell_type": "code",
   "execution_count": 4,
   "id": "67fa44e2",
   "metadata": {},
   "outputs": [
    {
     "name": "stdout",
     "output_type": "stream",
     "text": [
      "我们的数组是：\n",
      "[(b'raju', 21) (b'anil', 25) (b'ravi', 17) (b'amar', 27)]\n",
      "\n",
      "\n",
      "按 name 排序：\n",
      "[(b'amar', 27) (b'anil', 25) (b'raju', 21) (b'ravi', 17)]\n"
     ]
    }
   ],
   "source": [
    "# 在 sort 函数中排序字段 \n",
    "dt = np.dtype([('name',  'S10'),('age',  int)]) \n",
    "a = np.array([(\"raju\",21),(\"anil\",25),(\"ravi\",  17),  (\"amar\",27)], dtype = dt)  \n",
    "print ('我们的数组是：')\n",
    "print (a)\n",
    "print ('\\n')\n",
    "print ('按 name 排序：')\n",
    "print (np.sort(a, order =  'name'))"
   ]
  },
  {
   "cell_type": "markdown",
   "id": "05aa1849",
   "metadata": {},
   "source": [
    "# 平展数组"
   ]
  },
  {
   "cell_type": "code",
   "execution_count": null,
   "id": "36308b73",
   "metadata": {},
   "outputs": [],
   "source": []
  }
 ],
 "metadata": {
  "kernelspec": {
   "display_name": "Python 3 (ipykernel)",
   "language": "python",
   "name": "python3"
  },
  "language_info": {
   "codemirror_mode": {
    "name": "ipython",
    "version": 3
   },
   "file_extension": ".py",
   "mimetype": "text/x-python",
   "name": "python",
   "nbconvert_exporter": "python",
   "pygments_lexer": "ipython3",
   "version": "3.9.7"
  }
 },
 "nbformat": 4,
 "nbformat_minor": 5
}
