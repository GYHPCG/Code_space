{
 "cells": [
  {
   "cell_type": "markdown",
   "id": "87b1b00e",
   "metadata": {},
   "source": [
    "# Test for my pandas"
   ]
  },
  {
   "cell_type": "code",
   "execution_count": 6,
   "id": "c0385453",
   "metadata": {},
   "outputs": [
    {
     "name": "stdout",
     "output_type": "stream",
     "text": [
      "     sites  number\n",
      "0   google       1\n",
      "1  cainiao       2\n",
      "2     wiki       3\n",
      "---------\n",
      "0    1\n",
      "1    2\n",
      "2    3\n",
      "dtype: int64\n",
      "[[0. 0. 0. 0. 0. 0. 0. 0.]\n",
      " [0. 0. 0. 0. 0. 0. 0. 0.]\n",
      " [0. 0. 0. 0. 0. 0. 0. 0.]\n",
      " [0. 0. 0. 0. 0. 0. 0. 0.]]\n"
     ]
    }
   ],
   "source": [
    "import pandas as pd\n",
    "pd.__version__\n",
    "\n",
    "mydataset = {\n",
    "    \"sites\":[\"google\", \"cainiao\", \"wiki\"],\n",
    "    \"number\":[1, 2, 3]\n",
    "}\n",
    "\n",
    "my = pd.DataFrame(mydataset)\n",
    "print(my)\n",
    "\n",
    "print(\"---------\")\n",
    "a = [1, 2, 3]\n",
    "myla = pd.Series(a)\n",
    "print(myla)\n",
    "\n",
    "import numpy as np\n",
    "zero = np.zeros([4,8])\n",
    "print(zero)"
   ]
  },
  {
   "cell_type": "code",
   "execution_count": 9,
   "id": "bda3e957",
   "metadata": {},
   "outputs": [
    {
     "name": "stdout",
     "output_type": "stream",
     "text": [
      "1    Google\n",
      "2    Runoob\n",
      "3      Wiki\n",
      "dtype: object\n",
      "-------------\n",
      "df：\n",
      "   calories  duration\n",
      "0       420        50\n",
      "1       380        40\n",
      "2       390        45\n",
      "calories    420\n",
      "duration     50\n",
      "Name: 0, dtype: int64\n",
      "calories    380\n",
      "duration     40\n",
      "Name: 1, dtype: int64\n",
      "50\n"
     ]
    }
   ],
   "source": [
    "import pandas as pd\n",
    "sites = {1: \"Google\", 2: \"Runoob\", 3: \"Wiki\"}\n",
    "\n",
    "myvar = pd.Series(sites)\n",
    "\n",
    "print(myvar)\n",
    "\n",
    "print(\"-------------\")\n",
    "data = {\n",
    "  \"calories\": [420, 380, 390],\n",
    "  \"duration\": [50, 40, 45]\n",
    "}\n",
    "\n",
    "# 数据载入到 DataFrame 对象\n",
    "df = pd.DataFrame(data)\n",
    "\n",
    "print(\"df：\")\n",
    "print(df)\n",
    "# 返回第一行\n",
    "print(df.loc[0])\n",
    "# 返回第二行\n",
    "print(df.loc[1])\n",
    "\n",
    "print(df.loc[0][1])"
   ]
  },
  {
   "cell_type": "code",
   "execution_count": null,
   "id": "60468eef",
   "metadata": {},
   "outputs": [],
   "source": []
  }
 ],
 "metadata": {
  "kernelspec": {
   "display_name": "Python 3 (ipykernel)",
   "language": "python",
   "name": "python3"
  },
  "language_info": {
   "codemirror_mode": {
    "name": "ipython",
    "version": 3
   },
   "file_extension": ".py",
   "mimetype": "text/x-python",
   "name": "python",
   "nbconvert_exporter": "python",
   "pygments_lexer": "ipython3",
   "version": "3.9.7"
  }
 },
 "nbformat": 4,
 "nbformat_minor": 5
}
