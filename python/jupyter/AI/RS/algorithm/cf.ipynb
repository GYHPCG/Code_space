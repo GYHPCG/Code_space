{
 "cells": [
  {
   "cell_type": "markdown",
   "metadata": {},
   "source": [
    "# 协同过滤算法\n",
    "## 1. 基于用户的协同过滤算法 UserCF\n",
    "\n"
   ]
  },
  {
   "cell_type": "code",
   "execution_count": 5,
   "metadata": {},
   "outputs": [
    {
     "name": "stdout",
     "output_type": "stream",
     "text": [
      "          Alice     user1     user2     user3     user4\n",
      "Alice  1.000000  0.852803  0.707107  0.000000 -0.792118\n",
      "user1  0.852803  1.000000  0.467707  0.489956 -0.900149\n",
      "user2  0.707107  0.467707  1.000000 -0.161165 -0.466569\n",
      "user3  0.000000  0.489956 -0.161165  1.000000 -0.641503\n",
      "user4 -0.792118 -0.900149 -0.466569 -0.641503  1.000000\n",
      "与用户Alice最相似的2个用户为：['user1', 'user2']\n"
     ]
    }
   ],
   "source": [
    "'''\n",
    "Descripttion: my code for learning\n",
    "Author: chenggong Pan\n",
    "Date: 2024-03-01 15:02:45\n",
    "LastEditors: chenggong Pan\n",
    "LastEditTime: 2024-03-01 15:25:05\n",
    "'''\n",
    "import numpy as np\n",
    "import pandas as pd\n",
    "from sklearn.metrics.pairwise import cosine_similarity\n",
    "\n",
    "def loadData():\n",
    "    \"\"\"\n",
    "    加载用户数据。\n",
    "    \n",
    "    该函数没有参数。\n",
    "    \n",
    "    返回:\n",
    "    dict: 包含用户及其对应等级评分的字典。每个用户是一个键，其值是另一个字典，该字典以课程名称为键，以评分等级为值。\n",
    "    \"\"\"\n",
    "    users = {'Alice': {'A': 5, 'B': 3, 'C': 4, 'D': 4},\n",
    "             'user1': {'A': 3, 'B': 1, 'C': 2, 'D': 3, 'E': 3},\n",
    "             'user2': {'A': 4, 'B': 3, 'C': 4, 'D': 3, 'E': 5},\n",
    "             'user3': {'A': 3, 'B': 3, 'C': 1, 'D': 5, 'E': 4},\n",
    "             'user4': {'A': 1, 'B': 5, 'C': 5, 'D': 2, 'E': 1}\n",
    "             }\n",
    "    return users\n",
    "\n",
    "# 加载用户数据\n",
    "user_data = loadData()\n",
    "\n",
    "# 初始化用户相似度矩阵，使用pandas的DataFrame，初始值为单位矩阵\n",
    "similarity_matrix = pd.DataFrame(\n",
    "    np.identity(len(user_data)),  # 生成单位矩阵，其大小根据用户数量确定\n",
    "    index=user_data.keys(),  # 设置行索引为用户键\n",
    "    columns=user_data.keys()  # 设置列索引为用户键\n",
    ")\n",
    "\n",
    "# 遍历每条用户-物品评分数据\n",
    "for u1, items1 in user_data.items():\n",
    "    for u2, items2 in user_data.items():\n",
    "        if u1 == u2:\n",
    "            continue\n",
    "        vec1, vec2 = [], []\n",
    "        for item, rating1 in items1.items():\n",
    "            rating2 = items2.get(item, -1)\n",
    "            if rating2 == -1:\n",
    "                continue\n",
    "            vec1.append(rating1)\n",
    "            vec2.append(rating2)\n",
    "        # 计算不同用户之间的皮尔逊相关系数\n",
    "        similarity_matrix[u1][u2] = np.corrcoef(vec1, vec2)[0][1]\n",
    "        # 计算不同用户的余弦相似度\n",
    "        # similarity_matrix[u1][u2] = cosine_similarity(vec1, vec2)[0][1]\n",
    "\n",
    "print(similarity_matrix)\n",
    "\n",
    "\n",
    "\n",
    "target_user = 'Alice'\n",
    "num = 2\n",
    "# 由于最相似的用户为自己，去除本身\n",
    "sim_users = similarity_matrix[target_user].sort_values(ascending=False)[1:num+1].index.tolist()\n",
    "print(f'与用户{target_user}最相似的{num}个用户为：{sim_users}')\n"
   ]
  },
  {
   "cell_type": "code",
   "execution_count": 6,
   "metadata": {},
   "outputs": [
    {
     "name": "stdout",
     "output_type": "stream",
     "text": [
      "用户Alice对物品E的预测评分为：4.871979899370592\n"
     ]
    }
   ],
   "source": [
    "# 预测用户 Alice 对物品 E 的评分\n",
    "weighted_scores = 0.\n",
    "corr_values_sum = 0.\n",
    "\n",
    "target_item = 'E'\n",
    "# 基于皮尔逊相关系数预测用户评分\n",
    "# 遍历与目标用户相似的用户，计算加权评分\n",
    "for user in sim_users:\n",
    "    corr_value = similarity_matrix[target_user][user]\n",
    "    user_mean_rating = np.mean(list(user_data[user].values()))\n",
    "    # 计算加权评分\n",
    "    weighted_scores += corr_value * (user_data[user][target_item] - user_mean_rating)\n",
    "    corr_values_sum += corr_value\n",
    "\n",
    "# 计算目标用户对物品 E 的预测评分\n",
    "# 对物品 E 的预测评分 = 目标用户均值 + 相关评分的加权和 / 相关评分的和\n",
    "target_user_mean_rating = np.mean(list(user_data[target_user].values()))\n",
    "target_item_pred = target_user_mean_rating + weighted_scores / corr_values_sum\n",
    "print(f'用户{target_user}对物品{target_item}的预测评分为：{target_item_pred}')\n"
   ]
  },
  {
   "cell_type": "code",
   "execution_count": 12,
   "metadata": {},
   "outputs": [
    {
     "data": {
      "text/plain": [
       "array([[1.        , 0.70710678],\n",
       "       [0.70710678, 1.        ]])"
      ]
     },
     "execution_count": 12,
     "metadata": {},
     "output_type": "execute_result"
    }
   ],
   "source": [
    "from sklearn.metrics.pairwise import cosine_similarity\n",
    "\n",
    "# 导入cosine_similarity函数，用于计算两个向量之间的余弦相似度\n",
    "\n",
    "i = [1, 0, 0, 0]  # 定义第一个向量i\n",
    "j = [1, 0, 1, 0]  # 定义第二个向量j\n",
    "\n",
    "# 计算向量i和向量j之间的余弦相似度\n",
    "cosine_similarity([i, j])\n"
   ]
  },
  {
   "cell_type": "code",
   "execution_count": 1,
   "metadata": {},
   "outputs": [
    {
     "data": {
      "text/plain": [
       "PearsonRResult(statistic=0.8164965809277258, pvalue=0.1835034190722742)"
      ]
     },
     "execution_count": 1,
     "metadata": {},
     "output_type": "execute_result"
    }
   ],
   "source": [
    "# 皮尔逊相似度\n",
    "from scipy.stats import pearsonr\n",
    "\n",
    "i = [1, 0, 0, 0]\n",
    "j = [1, 0.5, 0.5, 0]\n",
    "pearsonr(i, j)\n"
   ]
  },
  {
   "cell_type": "code",
   "execution_count": 3,
   "metadata": {},
   "outputs": [
    {
     "name": "stdout",
     "output_type": "stream",
     "text": [
      "余弦相似度为: 0.408248290463863\n"
     ]
    }
   ],
   "source": [
    "# 余弦相似度\n",
    "from sklearn.metrics.pairwise import cosine_similarity\n",
    "import numpy as np\n",
    "\n",
    "# 定义向量 A 和 B\n",
    "A = np.array([[0, 1, 0, 1]])  # 向量 A = [b, d]\n",
    "B = np.array([[1, 1, 1, 0]])  # 向量 B = [a, b, c]\n",
    "\n",
    "# 计算余弦相似度\n",
    "cosine_sim = cosine_similarity(A, B)\n",
    "\n",
    "print(\"余弦相似度为:\", cosine_sim[0][0])\n",
    "\n",
    "\n",
    "# from math import sqrt\n",
    "\n",
    "# # 定义向量 A 和 B\n",
    "# A = {'b': 1, 'd': 1}\n",
    "# B = {'a': 1, 'b': 1, 'c': 1}\n",
    "\n",
    "# # 计算向量 A 和 B 的点积\n",
    "# dot_product = sum(A.get(key, 0) * B.get(key, 0) for key in set(A) | set(B))\n",
    "\n",
    "# # 计算向量 A 和 B 的模长\n",
    "# magnitude_A = sqrt(sum(value**2 for value in A.values()))\n",
    "# magnitude_B = sqrt(sum(value**2 for value in B.values()))\n",
    "\n",
    "# # 计算余弦相似度\n",
    "# cosine_similarity = dot_product / (magnitude_A * magnitude_B)\n",
    "\n",
    "# print(\"余弦相似度为:\", cosine_similarity)\n",
    "\n"
   ]
  },
  {
   "cell_type": "code",
   "execution_count": 6,
   "metadata": {},
   "outputs": [
    {
     "name": "stdout",
     "output_type": "stream",
     "text": [
      "hello\n"
     ]
    }
   ],
   "source": [
    "'''\n",
    "Author: cgp 2986779260@qq.com\n",
    "Date: 2024-03-01 15:02:45\n",
    "LastEditors: cgp 2986779260@qq.com\n",
    "LastEditTime: 2024-03-01 21:45:58\n",
    "FilePath: \\jupyter\\AI\\RS\\algorithm\\cf.ipynb\n",
    "Description: 这是默认设置,请设置`customMade`, 打开koroFileHeader查看配置 进行设置: https://github.com/OBKoro1/koro1FileHeader/wiki/%E9%85%8D%E7%BD%AE\n",
    "'''\n",
    "print(\"hello\")\n",
    "# print(\"傻逼\")\n",
    "\n",
    "\n"
   ]
  },
  {
   "cell_type": "markdown",
   "metadata": {},
   "source": [
    "## 2. 基于物品的协同过滤算法 ItmeCF\n",
    "\n"
   ]
  },
  {
   "cell_type": "code",
   "execution_count": null,
   "metadata": {},
   "outputs": [],
   "source": []
  },
  {
   "cell_type": "code",
   "execution_count": null,
   "metadata": {},
   "outputs": [],
   "source": []
  }
 ],
 "metadata": {
  "kernelspec": {
   "display_name": "Python 3",
   "language": "python",
   "name": "python3"
  },
  "language_info": {
   "codemirror_mode": {
    "name": "ipython",
    "version": 3
   },
   "file_extension": ".py",
   "mimetype": "text/x-python",
   "name": "python",
   "nbconvert_exporter": "python",
   "pygments_lexer": "ipython3",
   "version": "3.11.5"
  }
 },
 "nbformat": 4,
 "nbformat_minor": 2
}
